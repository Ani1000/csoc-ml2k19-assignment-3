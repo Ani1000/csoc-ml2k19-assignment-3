{
 "cells": [
  {
   "cell_type": "markdown",
   "metadata": {
    "colab_type": "text",
    "id": "7BtdG4MjCJts"
   },
   "source": [
    "So far we've learnt the most basic but crucial algorithms a data scientist and a machine learning engineer must know. We've learnt the techniques for classification and regression, and we've done some very rudementary data exploration. Hopefully, you've also done the assignments and the mini projects in the courses we recommended you to do. In this assignment, we give you a very easy dataset on which you can perform both classification and regression tasks. The purpose of this assignment is for you to try your hand out at all the techniques you've learnt so far and work on a real dataset to figure out whether what you learnt up until now works."
   ]
  },
  {
   "cell_type": "markdown",
   "metadata": {
    "colab_type": "text",
    "id": "E1LQUzUNQGlI"
   },
   "source": [
    "## Link to the Dataset\n",
    "\n",
    "https://archive.ics.uci.edu/ml/datasets/wine+quality"
   ]
  },
  {
   "cell_type": "markdown",
   "metadata": {
    "colab_type": "text",
    "id": "TUsiOfOCQM0f"
   },
   "source": [
    "For you to submit this assingment, you'll have to give us the accuracy you're getting on your classification, what algorithms/techniques you used for classification and why. Also, you'll give us the minimum loss you got in your regression, what algorithms/techniques you used and why. Just as last assignment, you'll clone the original folder, work completely on this Jupyter notebook and submit all your work. Also, you'll include in a text cell the above things. Happy playing on this dataset!\n"
   ]
  },
  {
   "cell_type": "markdown",
   "metadata": {},
   "source": [
    "## Some things that must be present in the notebook\n",
    "- Read the dataset and display various details of data (correlation,some statistics etc..)\n",
    "- Split the data into train test split\n",
    "- Show some vizualizations\n",
    "- Models for both classification and regression.\n",
    "- Show the results clearly and all of them must be on the test set"
   ]
  },
  {
   "cell_type": "markdown",
   "metadata": {},
   "source": [
    "This [book](https://github.com/dvrg/educate-resource-for-machine-learning/blob/master/6.%20Machine%20Learning%20Mastery%20With%20Python%20Understand%20Your%20Data%2C%20Create%20Accurate%20Models%20and%20work%20Projects%20End-to-End.pdf) is a great resource for data science/predictive modelling in general and can be used as reference book for this task and future. The book highlights all the necessary steps one must take to understand data and build powerful models in a simple and understandable manner. "
   ]
  },
  {
   "cell_type": "markdown",
   "metadata": {
    "colab_type": "text",
    "id": "JO_NZk6YRUFt"
   },
   "source": [
    "### Accuracy on your classification task and the reason you used this algorithm/technique -> "
   ]
  },
  {
   "cell_type": "markdown",
   "metadata": {
    "colab_type": "text",
    "id": "yRw-MKiDRh1i"
   },
   "source": [
    "### Minimum loss on you regression task and the reason you used this algorithm/technique ->\n",
    "\n"
   ]
  },
  {
   "cell_type": "code",
   "execution_count": 13,
   "metadata": {},
   "outputs": [],
   "source": [
    "import numpy as np\n"
   ]
  },
  {
   "cell_type": "code",
   "execution_count": 14,
   "metadata": {},
   "outputs": [],
   "source": [
    "import pandas as pd\n"
   ]
  },
  {
   "cell_type": "markdown",
   "metadata": {},
   "source": [
    "#visualization"
   ]
  },
  {
   "cell_type": "code",
   "execution_count": 15,
   "metadata": {},
   "outputs": [],
   "source": [
    "import matplotlib.pyplot as plt\n",
    "import seaborn as sns"
   ]
  },
  {
   "cell_type": "markdown",
   "metadata": {},
   "source": [
    "#Time Analysis for svm classifier"
   ]
  },
  {
   "cell_type": "code",
   "execution_count": 16,
   "metadata": {},
   "outputs": [],
   "source": [
    "import datetime\n",
    "from time import time"
   ]
  },
  {
   "cell_type": "markdown",
   "metadata": {},
   "source": [
    "#reading CSV"
   ]
  },
  {
   "cell_type": "code",
   "execution_count": 17,
   "metadata": {},
   "outputs": [],
   "source": [
    "data = pd.read_csv('C:\\\\Users\\\\Animesh Ramasami\\\\Downloads\\\\winequality-red.csv',sep=';')"
   ]
  },
  {
   "cell_type": "code",
   "execution_count": 19,
   "metadata": {},
   "outputs": [
    {
     "data": {
      "text/html": [
       "<div>\n",
       "<style scoped>\n",
       "    .dataframe tbody tr th:only-of-type {\n",
       "        vertical-align: middle;\n",
       "    }\n",
       "\n",
       "    .dataframe tbody tr th {\n",
       "        vertical-align: top;\n",
       "    }\n",
       "\n",
       "    .dataframe thead th {\n",
       "        text-align: right;\n",
       "    }\n",
       "</style>\n",
       "<table border=\"1\" class=\"dataframe\">\n",
       "  <thead>\n",
       "    <tr style=\"text-align: right;\">\n",
       "      <th></th>\n",
       "      <th>fixed acidity</th>\n",
       "      <th>volatile acidity</th>\n",
       "      <th>citric acid</th>\n",
       "      <th>residual sugar</th>\n",
       "      <th>chlorides</th>\n",
       "      <th>free sulfur dioxide</th>\n",
       "      <th>total sulfur dioxide</th>\n",
       "      <th>density</th>\n",
       "      <th>pH</th>\n",
       "      <th>sulphates</th>\n",
       "      <th>alcohol</th>\n",
       "      <th>quality</th>\n",
       "    </tr>\n",
       "  </thead>\n",
       "  <tbody>\n",
       "    <tr>\n",
       "      <th>0</th>\n",
       "      <td>7.4</td>\n",
       "      <td>0.70</td>\n",
       "      <td>0.00</td>\n",
       "      <td>1.9</td>\n",
       "      <td>0.076</td>\n",
       "      <td>11.0</td>\n",
       "      <td>34.0</td>\n",
       "      <td>0.9978</td>\n",
       "      <td>3.51</td>\n",
       "      <td>0.56</td>\n",
       "      <td>9.4</td>\n",
       "      <td>5</td>\n",
       "    </tr>\n",
       "    <tr>\n",
       "      <th>1</th>\n",
       "      <td>7.8</td>\n",
       "      <td>0.88</td>\n",
       "      <td>0.00</td>\n",
       "      <td>2.6</td>\n",
       "      <td>0.098</td>\n",
       "      <td>25.0</td>\n",
       "      <td>67.0</td>\n",
       "      <td>0.9968</td>\n",
       "      <td>3.20</td>\n",
       "      <td>0.68</td>\n",
       "      <td>9.8</td>\n",
       "      <td>5</td>\n",
       "    </tr>\n",
       "    <tr>\n",
       "      <th>2</th>\n",
       "      <td>7.8</td>\n",
       "      <td>0.76</td>\n",
       "      <td>0.04</td>\n",
       "      <td>2.3</td>\n",
       "      <td>0.092</td>\n",
       "      <td>15.0</td>\n",
       "      <td>54.0</td>\n",
       "      <td>0.9970</td>\n",
       "      <td>3.26</td>\n",
       "      <td>0.65</td>\n",
       "      <td>9.8</td>\n",
       "      <td>5</td>\n",
       "    </tr>\n",
       "    <tr>\n",
       "      <th>3</th>\n",
       "      <td>11.2</td>\n",
       "      <td>0.28</td>\n",
       "      <td>0.56</td>\n",
       "      <td>1.9</td>\n",
       "      <td>0.075</td>\n",
       "      <td>17.0</td>\n",
       "      <td>60.0</td>\n",
       "      <td>0.9980</td>\n",
       "      <td>3.16</td>\n",
       "      <td>0.58</td>\n",
       "      <td>9.8</td>\n",
       "      <td>6</td>\n",
       "    </tr>\n",
       "    <tr>\n",
       "      <th>4</th>\n",
       "      <td>7.4</td>\n",
       "      <td>0.70</td>\n",
       "      <td>0.00</td>\n",
       "      <td>1.9</td>\n",
       "      <td>0.076</td>\n",
       "      <td>11.0</td>\n",
       "      <td>34.0</td>\n",
       "      <td>0.9978</td>\n",
       "      <td>3.51</td>\n",
       "      <td>0.56</td>\n",
       "      <td>9.4</td>\n",
       "      <td>5</td>\n",
       "    </tr>\n",
       "  </tbody>\n",
       "</table>\n",
       "</div>"
      ],
      "text/plain": [
       "   fixed acidity  volatile acidity  citric acid  residual sugar  chlorides  \\\n",
       "0            7.4              0.70         0.00             1.9      0.076   \n",
       "1            7.8              0.88         0.00             2.6      0.098   \n",
       "2            7.8              0.76         0.04             2.3      0.092   \n",
       "3           11.2              0.28         0.56             1.9      0.075   \n",
       "4            7.4              0.70         0.00             1.9      0.076   \n",
       "\n",
       "   free sulfur dioxide  total sulfur dioxide  density    pH  sulphates  \\\n",
       "0                 11.0                  34.0   0.9978  3.51       0.56   \n",
       "1                 25.0                  67.0   0.9968  3.20       0.68   \n",
       "2                 15.0                  54.0   0.9970  3.26       0.65   \n",
       "3                 17.0                  60.0   0.9980  3.16       0.58   \n",
       "4                 11.0                  34.0   0.9978  3.51       0.56   \n",
       "\n",
       "   alcohol  quality  \n",
       "0      9.4        5  \n",
       "1      9.8        5  \n",
       "2      9.8        5  \n",
       "3      9.8        6  \n",
       "4      9.4        5  "
      ]
     },
     "execution_count": 19,
     "metadata": {},
     "output_type": "execute_result"
    }
   ],
   "source": [
    "data.head()"
   ]
  },
  {
   "cell_type": "code",
   "execution_count": 20,
   "metadata": {},
   "outputs": [
    {
     "data": {
      "text/plain": [
       "(1599, 12)"
      ]
     },
     "execution_count": 20,
     "metadata": {},
     "output_type": "execute_result"
    }
   ],
   "source": [
    "data.shape"
   ]
  },
  {
   "cell_type": "code",
   "execution_count": 23,
   "metadata": {
    "scrolled": true
   },
   "outputs": [
    {
     "data": {
      "text/html": [
       "<style  type=\"text/css\" >\n",
       "    #T_db0f2f38_95d1_11e9_92a9_80c5f27a3b4erow0_col0 {\n",
       "            background-color:  #b40426;\n",
       "            color:  #f1f1f1;\n",
       "        }    #T_db0f2f38_95d1_11e9_92a9_80c5f27a3b4erow0_col1 {\n",
       "            background-color:  #779af7;\n",
       "            color:  #000000;\n",
       "        }    #T_db0f2f38_95d1_11e9_92a9_80c5f27a3b4erow0_col2 {\n",
       "            background-color:  #f08a6c;\n",
       "            color:  #000000;\n",
       "        }    #T_db0f2f38_95d1_11e9_92a9_80c5f27a3b4erow0_col3 {\n",
       "            background-color:  #7699f6;\n",
       "            color:  #000000;\n",
       "        }    #T_db0f2f38_95d1_11e9_92a9_80c5f27a3b4erow0_col4 {\n",
       "            background-color:  #98b9ff;\n",
       "            color:  #000000;\n",
       "        }    #T_db0f2f38_95d1_11e9_92a9_80c5f27a3b4erow0_col5 {\n",
       "            background-color:  #3b4cc0;\n",
       "            color:  #f1f1f1;\n",
       "        }    #T_db0f2f38_95d1_11e9_92a9_80c5f27a3b4erow0_col6 {\n",
       "            background-color:  #516ddb;\n",
       "            color:  #000000;\n",
       "        }    #T_db0f2f38_95d1_11e9_92a9_80c5f27a3b4erow0_col7 {\n",
       "            background-color:  #f18d6f;\n",
       "            color:  #000000;\n",
       "        }    #T_db0f2f38_95d1_11e9_92a9_80c5f27a3b4erow0_col8 {\n",
       "            background-color:  #3b4cc0;\n",
       "            color:  #f1f1f1;\n",
       "        }    #T_db0f2f38_95d1_11e9_92a9_80c5f27a3b4erow0_col9 {\n",
       "            background-color:  #b1cbfc;\n",
       "            color:  #000000;\n",
       "        }    #T_db0f2f38_95d1_11e9_92a9_80c5f27a3b4erow0_col10 {\n",
       "            background-color:  #9bbcff;\n",
       "            color:  #000000;\n",
       "        }    #T_db0f2f38_95d1_11e9_92a9_80c5f27a3b4erow0_col11 {\n",
       "            background-color:  #b6cefa;\n",
       "            color:  #000000;\n",
       "        }    #T_db0f2f38_95d1_11e9_92a9_80c5f27a3b4erow1_col0 {\n",
       "            background-color:  #8db0fe;\n",
       "            color:  #000000;\n",
       "        }    #T_db0f2f38_95d1_11e9_92a9_80c5f27a3b4erow1_col1 {\n",
       "            background-color:  #b40426;\n",
       "            color:  #f1f1f1;\n",
       "        }    #T_db0f2f38_95d1_11e9_92a9_80c5f27a3b4erow1_col2 {\n",
       "            background-color:  #3b4cc0;\n",
       "            color:  #f1f1f1;\n",
       "        }    #T_db0f2f38_95d1_11e9_92a9_80c5f27a3b4erow1_col3 {\n",
       "            background-color:  #536edd;\n",
       "            color:  #000000;\n",
       "        }    #T_db0f2f38_95d1_11e9_92a9_80c5f27a3b4erow1_col4 {\n",
       "            background-color:  #90b2fe;\n",
       "            color:  #000000;\n",
       "        }    #T_db0f2f38_95d1_11e9_92a9_80c5f27a3b4erow1_col5 {\n",
       "            background-color:  #6180e9;\n",
       "            color:  #000000;\n",
       "        }    #T_db0f2f38_95d1_11e9_92a9_80c5f27a3b4erow1_col6 {\n",
       "            background-color:  #86a9fc;\n",
       "            color:  #000000;\n",
       "        }    #T_db0f2f38_95d1_11e9_92a9_80c5f27a3b4erow1_col7 {\n",
       "            background-color:  #aec9fc;\n",
       "            color:  #000000;\n",
       "        }    #T_db0f2f38_95d1_11e9_92a9_80c5f27a3b4erow1_col8 {\n",
       "            background-color:  #e8d6cc;\n",
       "            color:  #000000;\n",
       "        }    #T_db0f2f38_95d1_11e9_92a9_80c5f27a3b4erow1_col9 {\n",
       "            background-color:  #3b4cc0;\n",
       "            color:  #f1f1f1;\n",
       "        }    #T_db0f2f38_95d1_11e9_92a9_80c5f27a3b4erow1_col10 {\n",
       "            background-color:  #7a9df8;\n",
       "            color:  #000000;\n",
       "        }    #T_db0f2f38_95d1_11e9_92a9_80c5f27a3b4erow1_col11 {\n",
       "            background-color:  #3b4cc0;\n",
       "            color:  #f1f1f1;\n",
       "        }    #T_db0f2f38_95d1_11e9_92a9_80c5f27a3b4erow2_col0 {\n",
       "            background-color:  #ec8165;\n",
       "            color:  #000000;\n",
       "        }    #T_db0f2f38_95d1_11e9_92a9_80c5f27a3b4erow2_col1 {\n",
       "            background-color:  #3b4cc0;\n",
       "            color:  #f1f1f1;\n",
       "        }    #T_db0f2f38_95d1_11e9_92a9_80c5f27a3b4erow2_col2 {\n",
       "            background-color:  #b40426;\n",
       "            color:  #f1f1f1;\n",
       "        }    #T_db0f2f38_95d1_11e9_92a9_80c5f27a3b4erow2_col3 {\n",
       "            background-color:  #80a3fa;\n",
       "            color:  #000000;\n",
       "        }    #T_db0f2f38_95d1_11e9_92a9_80c5f27a3b4erow2_col4 {\n",
       "            background-color:  #b6cefa;\n",
       "            color:  #000000;\n",
       "        }    #T_db0f2f38_95d1_11e9_92a9_80c5f27a3b4erow2_col5 {\n",
       "            background-color:  #536edd;\n",
       "            color:  #000000;\n",
       "        }    #T_db0f2f38_95d1_11e9_92a9_80c5f27a3b4erow2_col6 {\n",
       "            background-color:  #7b9ff9;\n",
       "            color:  #000000;\n",
       "        }    #T_db0f2f38_95d1_11e9_92a9_80c5f27a3b4erow2_col7 {\n",
       "            background-color:  #eed0c0;\n",
       "            color:  #000000;\n",
       "        }    #T_db0f2f38_95d1_11e9_92a9_80c5f27a3b4erow2_col8 {\n",
       "            background-color:  #5470de;\n",
       "            color:  #000000;\n",
       "        }    #T_db0f2f38_95d1_11e9_92a9_80c5f27a3b4erow2_col9 {\n",
       "            background-color:  #d1dae9;\n",
       "            color:  #000000;\n",
       "        }    #T_db0f2f38_95d1_11e9_92a9_80c5f27a3b4erow2_col10 {\n",
       "            background-color:  #c1d4f4;\n",
       "            color:  #000000;\n",
       "        }    #T_db0f2f38_95d1_11e9_92a9_80c5f27a3b4erow2_col11 {\n",
       "            background-color:  #cdd9ec;\n",
       "            color:  #000000;\n",
       "        }    #T_db0f2f38_95d1_11e9_92a9_80c5f27a3b4erow3_col0 {\n",
       "            background-color:  #d6dce4;\n",
       "            color:  #000000;\n",
       "        }    #T_db0f2f38_95d1_11e9_92a9_80c5f27a3b4erow3_col1 {\n",
       "            background-color:  #b2ccfb;\n",
       "            color:  #000000;\n",
       "        }    #T_db0f2f38_95d1_11e9_92a9_80c5f27a3b4erow3_col2 {\n",
       "            background-color:  #cedaeb;\n",
       "            color:  #000000;\n",
       "        }    #T_db0f2f38_95d1_11e9_92a9_80c5f27a3b4erow3_col3 {\n",
       "            background-color:  #b40426;\n",
       "            color:  #f1f1f1;\n",
       "        }    #T_db0f2f38_95d1_11e9_92a9_80c5f27a3b4erow3_col4 {\n",
       "            background-color:  #8db0fe;\n",
       "            color:  #000000;\n",
       "        }    #T_db0f2f38_95d1_11e9_92a9_80c5f27a3b4erow3_col5 {\n",
       "            background-color:  #9dbdff;\n",
       "            color:  #000000;\n",
       "        }    #T_db0f2f38_95d1_11e9_92a9_80c5f27a3b4erow3_col6 {\n",
       "            background-color:  #abc8fd;\n",
       "            color:  #000000;\n",
       "        }    #T_db0f2f38_95d1_11e9_92a9_80c5f27a3b4erow3_col7 {\n",
       "            background-color:  #edd2c3;\n",
       "            color:  #000000;\n",
       "        }    #T_db0f2f38_95d1_11e9_92a9_80c5f27a3b4erow3_col8 {\n",
       "            background-color:  #b1cbfc;\n",
       "            color:  #000000;\n",
       "        }    #T_db0f2f38_95d1_11e9_92a9_80c5f27a3b4erow3_col9 {\n",
       "            background-color:  #80a3fa;\n",
       "            color:  #000000;\n",
       "        }    #T_db0f2f38_95d1_11e9_92a9_80c5f27a3b4erow3_col10 {\n",
       "            background-color:  #b3cdfb;\n",
       "            color:  #000000;\n",
       "        }    #T_db0f2f38_95d1_11e9_92a9_80c5f27a3b4erow3_col11 {\n",
       "            background-color:  #9bbcff;\n",
       "            color:  #000000;\n",
       "        }    #T_db0f2f38_95d1_11e9_92a9_80c5f27a3b4erow4_col0 {\n",
       "            background-color:  #d3dbe7;\n",
       "            color:  #000000;\n",
       "        }    #T_db0f2f38_95d1_11e9_92a9_80c5f27a3b4erow4_col1 {\n",
       "            background-color:  #bfd3f6;\n",
       "            color:  #000000;\n",
       "        }    #T_db0f2f38_95d1_11e9_92a9_80c5f27a3b4erow4_col2 {\n",
       "            background-color:  #d9dce1;\n",
       "            color:  #000000;\n",
       "        }    #T_db0f2f38_95d1_11e9_92a9_80c5f27a3b4erow4_col3 {\n",
       "            background-color:  #6384eb;\n",
       "            color:  #000000;\n",
       "        }    #T_db0f2f38_95d1_11e9_92a9_80c5f27a3b4erow4_col4 {\n",
       "            background-color:  #b40426;\n",
       "            color:  #f1f1f1;\n",
       "        }    #T_db0f2f38_95d1_11e9_92a9_80c5f27a3b4erow4_col5 {\n",
       "            background-color:  #6687ed;\n",
       "            color:  #000000;\n",
       "        }    #T_db0f2f38_95d1_11e9_92a9_80c5f27a3b4erow4_col6 {\n",
       "            background-color:  #7ea1fa;\n",
       "            color:  #000000;\n",
       "        }    #T_db0f2f38_95d1_11e9_92a9_80c5f27a3b4erow4_col7 {\n",
       "            background-color:  #d4dbe6;\n",
       "            color:  #000000;\n",
       "        }    #T_db0f2f38_95d1_11e9_92a9_80c5f27a3b4erow4_col8 {\n",
       "            background-color:  #8caffe;\n",
       "            color:  #000000;\n",
       "        }    #T_db0f2f38_95d1_11e9_92a9_80c5f27a3b4erow4_col9 {\n",
       "            background-color:  #dddcdc;\n",
       "            color:  #000000;\n",
       "        }    #T_db0f2f38_95d1_11e9_92a9_80c5f27a3b4erow4_col10 {\n",
       "            background-color:  #7699f6;\n",
       "            color:  #000000;\n",
       "        }    #T_db0f2f38_95d1_11e9_92a9_80c5f27a3b4erow4_col11 {\n",
       "            background-color:  #779af7;\n",
       "            color:  #000000;\n",
       "        }    #T_db0f2f38_95d1_11e9_92a9_80c5f27a3b4erow5_col0 {\n",
       "            background-color:  #a3c2fe;\n",
       "            color:  #000000;\n",
       "        }    #T_db0f2f38_95d1_11e9_92a9_80c5f27a3b4erow5_col1 {\n",
       "            background-color:  #afcafc;\n",
       "            color:  #000000;\n",
       "        }    #T_db0f2f38_95d1_11e9_92a9_80c5f27a3b4erow5_col2 {\n",
       "            background-color:  #a5c3fe;\n",
       "            color:  #000000;\n",
       "        }    #T_db0f2f38_95d1_11e9_92a9_80c5f27a3b4erow5_col3 {\n",
       "            background-color:  #8db0fe;\n",
       "            color:  #000000;\n",
       "        }    #T_db0f2f38_95d1_11e9_92a9_80c5f27a3b4erow5_col4 {\n",
       "            background-color:  #80a3fa;\n",
       "            color:  #000000;\n",
       "        }    #T_db0f2f38_95d1_11e9_92a9_80c5f27a3b4erow5_col5 {\n",
       "            background-color:  #b40426;\n",
       "            color:  #f1f1f1;\n",
       "        }    #T_db0f2f38_95d1_11e9_92a9_80c5f27a3b4erow5_col6 {\n",
       "            background-color:  #f6a385;\n",
       "            color:  #000000;\n",
       "        }    #T_db0f2f38_95d1_11e9_92a9_80c5f27a3b4erow5_col7 {\n",
       "            background-color:  #a5c3fe;\n",
       "            color:  #000000;\n",
       "        }    #T_db0f2f38_95d1_11e9_92a9_80c5f27a3b4erow5_col8 {\n",
       "            background-color:  #cedaeb;\n",
       "            color:  #000000;\n",
       "        }    #T_db0f2f38_95d1_11e9_92a9_80c5f27a3b4erow5_col9 {\n",
       "            background-color:  #8caffe;\n",
       "            color:  #000000;\n",
       "        }    #T_db0f2f38_95d1_11e9_92a9_80c5f27a3b4erow5_col10 {\n",
       "            background-color:  #9abbff;\n",
       "            color:  #000000;\n",
       "        }    #T_db0f2f38_95d1_11e9_92a9_80c5f27a3b4erow5_col11 {\n",
       "            background-color:  #8badfd;\n",
       "            color:  #000000;\n",
       "        }    #T_db0f2f38_95d1_11e9_92a9_80c5f27a3b4erow6_col0 {\n",
       "            background-color:  #abc8fd;\n",
       "            color:  #000000;\n",
       "        }    #T_db0f2f38_95d1_11e9_92a9_80c5f27a3b4erow6_col1 {\n",
       "            background-color:  #c1d4f4;\n",
       "            color:  #000000;\n",
       "        }    #T_db0f2f38_95d1_11e9_92a9_80c5f27a3b4erow6_col2 {\n",
       "            background-color:  #b9d0f9;\n",
       "            color:  #000000;\n",
       "        }    #T_db0f2f38_95d1_11e9_92a9_80c5f27a3b4erow6_col3 {\n",
       "            background-color:  #93b5fe;\n",
       "            color:  #000000;\n",
       "        }    #T_db0f2f38_95d1_11e9_92a9_80c5f27a3b4erow6_col4 {\n",
       "            background-color:  #8caffe;\n",
       "            color:  #000000;\n",
       "        }    #T_db0f2f38_95d1_11e9_92a9_80c5f27a3b4erow6_col5 {\n",
       "            background-color:  #f7a889;\n",
       "            color:  #000000;\n",
       "        }    #T_db0f2f38_95d1_11e9_92a9_80c5f27a3b4erow6_col6 {\n",
       "            background-color:  #b40426;\n",
       "            color:  #f1f1f1;\n",
       "        }    #T_db0f2f38_95d1_11e9_92a9_80c5f27a3b4erow6_col7 {\n",
       "            background-color:  #bad0f8;\n",
       "            color:  #000000;\n",
       "        }    #T_db0f2f38_95d1_11e9_92a9_80c5f27a3b4erow6_col8 {\n",
       "            background-color:  #b5cdfa;\n",
       "            color:  #000000;\n",
       "        }    #T_db0f2f38_95d1_11e9_92a9_80c5f27a3b4erow6_col9 {\n",
       "            background-color:  #89acfd;\n",
       "            color:  #000000;\n",
       "        }    #T_db0f2f38_95d1_11e9_92a9_80c5f27a3b4erow6_col10 {\n",
       "            background-color:  #799cf8;\n",
       "            color:  #000000;\n",
       "        }    #T_db0f2f38_95d1_11e9_92a9_80c5f27a3b4erow6_col11 {\n",
       "            background-color:  #688aef;\n",
       "            color:  #000000;\n",
       "        }    #T_db0f2f38_95d1_11e9_92a9_80c5f27a3b4erow7_col0 {\n",
       "            background-color:  #ed8366;\n",
       "            color:  #000000;\n",
       "        }    #T_db0f2f38_95d1_11e9_92a9_80c5f27a3b4erow7_col1 {\n",
       "            background-color:  #b6cefa;\n",
       "            color:  #000000;\n",
       "        }    #T_db0f2f38_95d1_11e9_92a9_80c5f27a3b4erow7_col2 {\n",
       "            background-color:  #f1cdba;\n",
       "            color:  #000000;\n",
       "        }    #T_db0f2f38_95d1_11e9_92a9_80c5f27a3b4erow7_col3 {\n",
       "            background-color:  #c1d4f4;\n",
       "            color:  #000000;\n",
       "        }    #T_db0f2f38_95d1_11e9_92a9_80c5f27a3b4erow7_col4 {\n",
       "            background-color:  #b6cefa;\n",
       "            color:  #000000;\n",
       "        }    #T_db0f2f38_95d1_11e9_92a9_80c5f27a3b4erow7_col5 {\n",
       "            background-color:  #5e7de7;\n",
       "            color:  #000000;\n",
       "        }    #T_db0f2f38_95d1_11e9_92a9_80c5f27a3b4erow7_col6 {\n",
       "            background-color:  #85a8fc;\n",
       "            color:  #000000;\n",
       "        }    #T_db0f2f38_95d1_11e9_92a9_80c5f27a3b4erow7_col7 {\n",
       "            background-color:  #b40426;\n",
       "            color:  #f1f1f1;\n",
       "        }    #T_db0f2f38_95d1_11e9_92a9_80c5f27a3b4erow7_col8 {\n",
       "            background-color:  #7b9ff9;\n",
       "            color:  #000000;\n",
       "        }    #T_db0f2f38_95d1_11e9_92a9_80c5f27a3b4erow7_col9 {\n",
       "            background-color:  #a7c5fe;\n",
       "            color:  #000000;\n",
       "        }    #T_db0f2f38_95d1_11e9_92a9_80c5f27a3b4erow7_col10 {\n",
       "            background-color:  #3b4cc0;\n",
       "            color:  #f1f1f1;\n",
       "        }    #T_db0f2f38_95d1_11e9_92a9_80c5f27a3b4erow7_col11 {\n",
       "            background-color:  #6b8df0;\n",
       "            color:  #000000;\n",
       "        }    #T_db0f2f38_95d1_11e9_92a9_80c5f27a3b4erow8_col0 {\n",
       "            background-color:  #3b4cc0;\n",
       "            color:  #f1f1f1;\n",
       "        }    #T_db0f2f38_95d1_11e9_92a9_80c5f27a3b4erow8_col1 {\n",
       "            background-color:  #dedcdb;\n",
       "            color:  #000000;\n",
       "        }    #T_db0f2f38_95d1_11e9_92a9_80c5f27a3b4erow8_col2 {\n",
       "            background-color:  #3c4ec2;\n",
       "            color:  #f1f1f1;\n",
       "        }    #T_db0f2f38_95d1_11e9_92a9_80c5f27a3b4erow8_col3 {\n",
       "            background-color:  #3b4cc0;\n",
       "            color:  #f1f1f1;\n",
       "        }    #T_db0f2f38_95d1_11e9_92a9_80c5f27a3b4erow8_col4 {\n",
       "            background-color:  #3b4cc0;\n",
       "            color:  #f1f1f1;\n",
       "        }    #T_db0f2f38_95d1_11e9_92a9_80c5f27a3b4erow8_col5 {\n",
       "            background-color:  #799cf8;\n",
       "            color:  #000000;\n",
       "        }    #T_db0f2f38_95d1_11e9_92a9_80c5f27a3b4erow8_col6 {\n",
       "            background-color:  #5e7de7;\n",
       "            color:  #000000;\n",
       "        }    #T_db0f2f38_95d1_11e9_92a9_80c5f27a3b4erow8_col7 {\n",
       "            background-color:  #5a78e4;\n",
       "            color:  #000000;\n",
       "        }    #T_db0f2f38_95d1_11e9_92a9_80c5f27a3b4erow8_col8 {\n",
       "            background-color:  #b40426;\n",
       "            color:  #f1f1f1;\n",
       "        }    #T_db0f2f38_95d1_11e9_92a9_80c5f27a3b4erow8_col9 {\n",
       "            background-color:  #4a63d3;\n",
       "            color:  #f1f1f1;\n",
       "        }    #T_db0f2f38_95d1_11e9_92a9_80c5f27a3b4erow8_col10 {\n",
       "            background-color:  #d5dbe5;\n",
       "            color:  #000000;\n",
       "        }    #T_db0f2f38_95d1_11e9_92a9_80c5f27a3b4erow8_col11 {\n",
       "            background-color:  #89acfd;\n",
       "            color:  #000000;\n",
       "        }    #T_db0f2f38_95d1_11e9_92a9_80c5f27a3b4erow9_col0 {\n",
       "            background-color:  #e0dbd8;\n",
       "            color:  #000000;\n",
       "        }    #T_db0f2f38_95d1_11e9_92a9_80c5f27a3b4erow9_col1 {\n",
       "            background-color:  #779af7;\n",
       "            color:  #000000;\n",
       "        }    #T_db0f2f38_95d1_11e9_92a9_80c5f27a3b4erow9_col2 {\n",
       "            background-color:  #ead4c8;\n",
       "            color:  #000000;\n",
       "        }    #T_db0f2f38_95d1_11e9_92a9_80c5f27a3b4erow9_col3 {\n",
       "            background-color:  #5470de;\n",
       "            color:  #000000;\n",
       "        }    #T_db0f2f38_95d1_11e9_92a9_80c5f27a3b4erow9_col4 {\n",
       "            background-color:  #dddcdc;\n",
       "            color:  #000000;\n",
       "        }    #T_db0f2f38_95d1_11e9_92a9_80c5f27a3b4erow9_col5 {\n",
       "            background-color:  #7396f5;\n",
       "            color:  #000000;\n",
       "        }    #T_db0f2f38_95d1_11e9_92a9_80c5f27a3b4erow9_col6 {\n",
       "            background-color:  #7da0f9;\n",
       "            color:  #000000;\n",
       "        }    #T_db0f2f38_95d1_11e9_92a9_80c5f27a3b4erow9_col7 {\n",
       "            background-color:  #cad8ef;\n",
       "            color:  #000000;\n",
       "        }    #T_db0f2f38_95d1_11e9_92a9_80c5f27a3b4erow9_col8 {\n",
       "            background-color:  #9abbff;\n",
       "            color:  #000000;\n",
       "        }    #T_db0f2f38_95d1_11e9_92a9_80c5f27a3b4erow9_col9 {\n",
       "            background-color:  #b40426;\n",
       "            color:  #f1f1f1;\n",
       "        }    #T_db0f2f38_95d1_11e9_92a9_80c5f27a3b4erow9_col10 {\n",
       "            background-color:  #bed2f6;\n",
       "            color:  #000000;\n",
       "        }    #T_db0f2f38_95d1_11e9_92a9_80c5f27a3b4erow9_col11 {\n",
       "            background-color:  #d3dbe7;\n",
       "            color:  #000000;\n",
       "        }    #T_db0f2f38_95d1_11e9_92a9_80c5f27a3b4erow10_col0 {\n",
       "            background-color:  #b6cefa;\n",
       "            color:  #000000;\n",
       "        }    #T_db0f2f38_95d1_11e9_92a9_80c5f27a3b4erow10_col1 {\n",
       "            background-color:  #84a7fc;\n",
       "            color:  #000000;\n",
       "        }    #T_db0f2f38_95d1_11e9_92a9_80c5f27a3b4erow10_col2 {\n",
       "            background-color:  #c9d7f0;\n",
       "            color:  #000000;\n",
       "        }    #T_db0f2f38_95d1_11e9_92a9_80c5f27a3b4erow10_col3 {\n",
       "            background-color:  #5f7fe8;\n",
       "            color:  #000000;\n",
       "        }    #T_db0f2f38_95d1_11e9_92a9_80c5f27a3b4erow10_col4 {\n",
       "            background-color:  #445acc;\n",
       "            color:  #f1f1f1;\n",
       "        }    #T_db0f2f38_95d1_11e9_92a9_80c5f27a3b4erow10_col5 {\n",
       "            background-color:  #506bda;\n",
       "            color:  #000000;\n",
       "        }    #T_db0f2f38_95d1_11e9_92a9_80c5f27a3b4erow10_col6 {\n",
       "            background-color:  #3b4cc0;\n",
       "            color:  #f1f1f1;\n",
       "        }    #T_db0f2f38_95d1_11e9_92a9_80c5f27a3b4erow10_col7 {\n",
       "            background-color:  #3b4cc0;\n",
       "            color:  #f1f1f1;\n",
       "        }    #T_db0f2f38_95d1_11e9_92a9_80c5f27a3b4erow10_col8 {\n",
       "            background-color:  #e4d9d2;\n",
       "            color:  #000000;\n",
       "        }    #T_db0f2f38_95d1_11e9_92a9_80c5f27a3b4erow10_col9 {\n",
       "            background-color:  #97b8ff;\n",
       "            color:  #000000;\n",
       "        }    #T_db0f2f38_95d1_11e9_92a9_80c5f27a3b4erow10_col10 {\n",
       "            background-color:  #b40426;\n",
       "            color:  #f1f1f1;\n",
       "        }    #T_db0f2f38_95d1_11e9_92a9_80c5f27a3b4erow10_col11 {\n",
       "            background-color:  #f4c5ad;\n",
       "            color:  #000000;\n",
       "        }    #T_db0f2f38_95d1_11e9_92a9_80c5f27a3b4erow11_col0 {\n",
       "            background-color:  #d7dce3;\n",
       "            color:  #000000;\n",
       "        }    #T_db0f2f38_95d1_11e9_92a9_80c5f27a3b4erow11_col1 {\n",
       "            background-color:  #5a78e4;\n",
       "            color:  #000000;\n",
       "        }    #T_db0f2f38_95d1_11e9_92a9_80c5f27a3b4erow11_col2 {\n",
       "            background-color:  #dddcdc;\n",
       "            color:  #000000;\n",
       "        }    #T_db0f2f38_95d1_11e9_92a9_80c5f27a3b4erow11_col3 {\n",
       "            background-color:  #5673e0;\n",
       "            color:  #000000;\n",
       "        }    #T_db0f2f38_95d1_11e9_92a9_80c5f27a3b4erow11_col4 {\n",
       "            background-color:  #5b7ae5;\n",
       "            color:  #000000;\n",
       "        }    #T_db0f2f38_95d1_11e9_92a9_80c5f27a3b4erow11_col5 {\n",
       "            background-color:  #5572df;\n",
       "            color:  #000000;\n",
       "        }    #T_db0f2f38_95d1_11e9_92a9_80c5f27a3b4erow11_col6 {\n",
       "            background-color:  #3f53c6;\n",
       "            color:  #f1f1f1;\n",
       "        }    #T_db0f2f38_95d1_11e9_92a9_80c5f27a3b4erow11_col7 {\n",
       "            background-color:  #80a3fa;\n",
       "            color:  #000000;\n",
       "        }    #T_db0f2f38_95d1_11e9_92a9_80c5f27a3b4erow11_col8 {\n",
       "            background-color:  #b7cff9;\n",
       "            color:  #000000;\n",
       "        }    #T_db0f2f38_95d1_11e9_92a9_80c5f27a3b4erow11_col9 {\n",
       "            background-color:  #c3d5f4;\n",
       "            color:  #000000;\n",
       "        }    #T_db0f2f38_95d1_11e9_92a9_80c5f27a3b4erow11_col10 {\n",
       "            background-color:  #f6bda2;\n",
       "            color:  #000000;\n",
       "        }    #T_db0f2f38_95d1_11e9_92a9_80c5f27a3b4erow11_col11 {\n",
       "            background-color:  #b40426;\n",
       "            color:  #f1f1f1;\n",
       "        }</style><table id=\"T_db0f2f38_95d1_11e9_92a9_80c5f27a3b4e\" ><thead>    <tr>        <th class=\"blank level0\" ></th>        <th class=\"col_heading level0 col0\" >fixed acidity</th>        <th class=\"col_heading level0 col1\" >volatile acidity</th>        <th class=\"col_heading level0 col2\" >citric acid</th>        <th class=\"col_heading level0 col3\" >residual sugar</th>        <th class=\"col_heading level0 col4\" >chlorides</th>        <th class=\"col_heading level0 col5\" >free sulfur dioxide</th>        <th class=\"col_heading level0 col6\" >total sulfur dioxide</th>        <th class=\"col_heading level0 col7\" >density</th>        <th class=\"col_heading level0 col8\" >pH</th>        <th class=\"col_heading level0 col9\" >sulphates</th>        <th class=\"col_heading level0 col10\" >alcohol</th>        <th class=\"col_heading level0 col11\" >quality</th>    </tr></thead><tbody>\n",
       "                <tr>\n",
       "                        <th id=\"T_db0f2f38_95d1_11e9_92a9_80c5f27a3b4elevel0_row0\" class=\"row_heading level0 row0\" >fixed acidity</th>\n",
       "                        <td id=\"T_db0f2f38_95d1_11e9_92a9_80c5f27a3b4erow0_col0\" class=\"data row0 col0\" >1</td>\n",
       "                        <td id=\"T_db0f2f38_95d1_11e9_92a9_80c5f27a3b4erow0_col1\" class=\"data row0 col1\" >-0.256131</td>\n",
       "                        <td id=\"T_db0f2f38_95d1_11e9_92a9_80c5f27a3b4erow0_col2\" class=\"data row0 col2\" >0.671703</td>\n",
       "                        <td id=\"T_db0f2f38_95d1_11e9_92a9_80c5f27a3b4erow0_col3\" class=\"data row0 col3\" >0.114777</td>\n",
       "                        <td id=\"T_db0f2f38_95d1_11e9_92a9_80c5f27a3b4erow0_col4\" class=\"data row0 col4\" >0.0937052</td>\n",
       "                        <td id=\"T_db0f2f38_95d1_11e9_92a9_80c5f27a3b4erow0_col5\" class=\"data row0 col5\" >-0.153794</td>\n",
       "                        <td id=\"T_db0f2f38_95d1_11e9_92a9_80c5f27a3b4erow0_col6\" class=\"data row0 col6\" >-0.113181</td>\n",
       "                        <td id=\"T_db0f2f38_95d1_11e9_92a9_80c5f27a3b4erow0_col7\" class=\"data row0 col7\" >0.668047</td>\n",
       "                        <td id=\"T_db0f2f38_95d1_11e9_92a9_80c5f27a3b4erow0_col8\" class=\"data row0 col8\" >-0.682978</td>\n",
       "                        <td id=\"T_db0f2f38_95d1_11e9_92a9_80c5f27a3b4erow0_col9\" class=\"data row0 col9\" >0.183006</td>\n",
       "                        <td id=\"T_db0f2f38_95d1_11e9_92a9_80c5f27a3b4erow0_col10\" class=\"data row0 col10\" >-0.0616683</td>\n",
       "                        <td id=\"T_db0f2f38_95d1_11e9_92a9_80c5f27a3b4erow0_col11\" class=\"data row0 col11\" >0.124052</td>\n",
       "            </tr>\n",
       "            <tr>\n",
       "                        <th id=\"T_db0f2f38_95d1_11e9_92a9_80c5f27a3b4elevel0_row1\" class=\"row_heading level0 row1\" >volatile acidity</th>\n",
       "                        <td id=\"T_db0f2f38_95d1_11e9_92a9_80c5f27a3b4erow1_col0\" class=\"data row1 col0\" >-0.256131</td>\n",
       "                        <td id=\"T_db0f2f38_95d1_11e9_92a9_80c5f27a3b4erow1_col1\" class=\"data row1 col1\" >1</td>\n",
       "                        <td id=\"T_db0f2f38_95d1_11e9_92a9_80c5f27a3b4erow1_col2\" class=\"data row1 col2\" >-0.552496</td>\n",
       "                        <td id=\"T_db0f2f38_95d1_11e9_92a9_80c5f27a3b4erow1_col3\" class=\"data row1 col3\" >0.00191788</td>\n",
       "                        <td id=\"T_db0f2f38_95d1_11e9_92a9_80c5f27a3b4erow1_col4\" class=\"data row1 col4\" >0.0612978</td>\n",
       "                        <td id=\"T_db0f2f38_95d1_11e9_92a9_80c5f27a3b4erow1_col5\" class=\"data row1 col5\" >-0.0105038</td>\n",
       "                        <td id=\"T_db0f2f38_95d1_11e9_92a9_80c5f27a3b4erow1_col6\" class=\"data row1 col6\" >0.07647</td>\n",
       "                        <td id=\"T_db0f2f38_95d1_11e9_92a9_80c5f27a3b4erow1_col7\" class=\"data row1 col7\" >0.0220262</td>\n",
       "                        <td id=\"T_db0f2f38_95d1_11e9_92a9_80c5f27a3b4erow1_col8\" class=\"data row1 col8\" >0.234937</td>\n",
       "                        <td id=\"T_db0f2f38_95d1_11e9_92a9_80c5f27a3b4erow1_col9\" class=\"data row1 col9\" >-0.260987</td>\n",
       "                        <td id=\"T_db0f2f38_95d1_11e9_92a9_80c5f27a3b4erow1_col10\" class=\"data row1 col10\" >-0.202288</td>\n",
       "                        <td id=\"T_db0f2f38_95d1_11e9_92a9_80c5f27a3b4erow1_col11\" class=\"data row1 col11\" >-0.390558</td>\n",
       "            </tr>\n",
       "            <tr>\n",
       "                        <th id=\"T_db0f2f38_95d1_11e9_92a9_80c5f27a3b4elevel0_row2\" class=\"row_heading level0 row2\" >citric acid</th>\n",
       "                        <td id=\"T_db0f2f38_95d1_11e9_92a9_80c5f27a3b4erow2_col0\" class=\"data row2 col0\" >0.671703</td>\n",
       "                        <td id=\"T_db0f2f38_95d1_11e9_92a9_80c5f27a3b4erow2_col1\" class=\"data row2 col1\" >-0.552496</td>\n",
       "                        <td id=\"T_db0f2f38_95d1_11e9_92a9_80c5f27a3b4erow2_col2\" class=\"data row2 col2\" >1</td>\n",
       "                        <td id=\"T_db0f2f38_95d1_11e9_92a9_80c5f27a3b4erow2_col3\" class=\"data row2 col3\" >0.143577</td>\n",
       "                        <td id=\"T_db0f2f38_95d1_11e9_92a9_80c5f27a3b4erow2_col4\" class=\"data row2 col4\" >0.203823</td>\n",
       "                        <td id=\"T_db0f2f38_95d1_11e9_92a9_80c5f27a3b4erow2_col5\" class=\"data row2 col5\" >-0.0609781</td>\n",
       "                        <td id=\"T_db0f2f38_95d1_11e9_92a9_80c5f27a3b4erow2_col6\" class=\"data row2 col6\" >0.035533</td>\n",
       "                        <td id=\"T_db0f2f38_95d1_11e9_92a9_80c5f27a3b4erow2_col7\" class=\"data row2 col7\" >0.364947</td>\n",
       "                        <td id=\"T_db0f2f38_95d1_11e9_92a9_80c5f27a3b4erow2_col8\" class=\"data row2 col8\" >-0.541904</td>\n",
       "                        <td id=\"T_db0f2f38_95d1_11e9_92a9_80c5f27a3b4erow2_col9\" class=\"data row2 col9\" >0.31277</td>\n",
       "                        <td id=\"T_db0f2f38_95d1_11e9_92a9_80c5f27a3b4erow2_col10\" class=\"data row2 col10\" >0.109903</td>\n",
       "                        <td id=\"T_db0f2f38_95d1_11e9_92a9_80c5f27a3b4erow2_col11\" class=\"data row2 col11\" >0.226373</td>\n",
       "            </tr>\n",
       "            <tr>\n",
       "                        <th id=\"T_db0f2f38_95d1_11e9_92a9_80c5f27a3b4elevel0_row3\" class=\"row_heading level0 row3\" >residual sugar</th>\n",
       "                        <td id=\"T_db0f2f38_95d1_11e9_92a9_80c5f27a3b4erow3_col0\" class=\"data row3 col0\" >0.114777</td>\n",
       "                        <td id=\"T_db0f2f38_95d1_11e9_92a9_80c5f27a3b4erow3_col1\" class=\"data row3 col1\" >0.00191788</td>\n",
       "                        <td id=\"T_db0f2f38_95d1_11e9_92a9_80c5f27a3b4erow3_col2\" class=\"data row3 col2\" >0.143577</td>\n",
       "                        <td id=\"T_db0f2f38_95d1_11e9_92a9_80c5f27a3b4erow3_col3\" class=\"data row3 col3\" >1</td>\n",
       "                        <td id=\"T_db0f2f38_95d1_11e9_92a9_80c5f27a3b4erow3_col4\" class=\"data row3 col4\" >0.0556095</td>\n",
       "                        <td id=\"T_db0f2f38_95d1_11e9_92a9_80c5f27a3b4erow3_col5\" class=\"data row3 col5\" >0.187049</td>\n",
       "                        <td id=\"T_db0f2f38_95d1_11e9_92a9_80c5f27a3b4erow3_col6\" class=\"data row3 col6\" >0.203028</td>\n",
       "                        <td id=\"T_db0f2f38_95d1_11e9_92a9_80c5f27a3b4erow3_col7\" class=\"data row3 col7\" >0.355283</td>\n",
       "                        <td id=\"T_db0f2f38_95d1_11e9_92a9_80c5f27a3b4erow3_col8\" class=\"data row3 col8\" >-0.0856524</td>\n",
       "                        <td id=\"T_db0f2f38_95d1_11e9_92a9_80c5f27a3b4erow3_col9\" class=\"data row3 col9\" >0.00552712</td>\n",
       "                        <td id=\"T_db0f2f38_95d1_11e9_92a9_80c5f27a3b4erow3_col10\" class=\"data row3 col10\" >0.0420754</td>\n",
       "                        <td id=\"T_db0f2f38_95d1_11e9_92a9_80c5f27a3b4erow3_col11\" class=\"data row3 col11\" >0.0137316</td>\n",
       "            </tr>\n",
       "            <tr>\n",
       "                        <th id=\"T_db0f2f38_95d1_11e9_92a9_80c5f27a3b4elevel0_row4\" class=\"row_heading level0 row4\" >chlorides</th>\n",
       "                        <td id=\"T_db0f2f38_95d1_11e9_92a9_80c5f27a3b4erow4_col0\" class=\"data row4 col0\" >0.0937052</td>\n",
       "                        <td id=\"T_db0f2f38_95d1_11e9_92a9_80c5f27a3b4erow4_col1\" class=\"data row4 col1\" >0.0612978</td>\n",
       "                        <td id=\"T_db0f2f38_95d1_11e9_92a9_80c5f27a3b4erow4_col2\" class=\"data row4 col2\" >0.203823</td>\n",
       "                        <td id=\"T_db0f2f38_95d1_11e9_92a9_80c5f27a3b4erow4_col3\" class=\"data row4 col3\" >0.0556095</td>\n",
       "                        <td id=\"T_db0f2f38_95d1_11e9_92a9_80c5f27a3b4erow4_col4\" class=\"data row4 col4\" >1</td>\n",
       "                        <td id=\"T_db0f2f38_95d1_11e9_92a9_80c5f27a3b4erow4_col5\" class=\"data row4 col5\" >0.00556215</td>\n",
       "                        <td id=\"T_db0f2f38_95d1_11e9_92a9_80c5f27a3b4erow4_col6\" class=\"data row4 col6\" >0.0474005</td>\n",
       "                        <td id=\"T_db0f2f38_95d1_11e9_92a9_80c5f27a3b4erow4_col7\" class=\"data row4 col7\" >0.200632</td>\n",
       "                        <td id=\"T_db0f2f38_95d1_11e9_92a9_80c5f27a3b4erow4_col8\" class=\"data row4 col8\" >-0.265026</td>\n",
       "                        <td id=\"T_db0f2f38_95d1_11e9_92a9_80c5f27a3b4erow4_col9\" class=\"data row4 col9\" >0.37126</td>\n",
       "                        <td id=\"T_db0f2f38_95d1_11e9_92a9_80c5f27a3b4erow4_col10\" class=\"data row4 col10\" >-0.221141</td>\n",
       "                        <td id=\"T_db0f2f38_95d1_11e9_92a9_80c5f27a3b4erow4_col11\" class=\"data row4 col11\" >-0.128907</td>\n",
       "            </tr>\n",
       "            <tr>\n",
       "                        <th id=\"T_db0f2f38_95d1_11e9_92a9_80c5f27a3b4elevel0_row5\" class=\"row_heading level0 row5\" >free sulfur dioxide</th>\n",
       "                        <td id=\"T_db0f2f38_95d1_11e9_92a9_80c5f27a3b4erow5_col0\" class=\"data row5 col0\" >-0.153794</td>\n",
       "                        <td id=\"T_db0f2f38_95d1_11e9_92a9_80c5f27a3b4erow5_col1\" class=\"data row5 col1\" >-0.0105038</td>\n",
       "                        <td id=\"T_db0f2f38_95d1_11e9_92a9_80c5f27a3b4erow5_col2\" class=\"data row5 col2\" >-0.0609781</td>\n",
       "                        <td id=\"T_db0f2f38_95d1_11e9_92a9_80c5f27a3b4erow5_col3\" class=\"data row5 col3\" >0.187049</td>\n",
       "                        <td id=\"T_db0f2f38_95d1_11e9_92a9_80c5f27a3b4erow5_col4\" class=\"data row5 col4\" >0.00556215</td>\n",
       "                        <td id=\"T_db0f2f38_95d1_11e9_92a9_80c5f27a3b4erow5_col5\" class=\"data row5 col5\" >1</td>\n",
       "                        <td id=\"T_db0f2f38_95d1_11e9_92a9_80c5f27a3b4erow5_col6\" class=\"data row5 col6\" >0.667666</td>\n",
       "                        <td id=\"T_db0f2f38_95d1_11e9_92a9_80c5f27a3b4erow5_col7\" class=\"data row5 col7\" >-0.0219458</td>\n",
       "                        <td id=\"T_db0f2f38_95d1_11e9_92a9_80c5f27a3b4erow5_col8\" class=\"data row5 col8\" >0.0703775</td>\n",
       "                        <td id=\"T_db0f2f38_95d1_11e9_92a9_80c5f27a3b4erow5_col9\" class=\"data row5 col9\" >0.0516576</td>\n",
       "                        <td id=\"T_db0f2f38_95d1_11e9_92a9_80c5f27a3b4erow5_col10\" class=\"data row5 col10\" >-0.0694084</td>\n",
       "                        <td id=\"T_db0f2f38_95d1_11e9_92a9_80c5f27a3b4erow5_col11\" class=\"data row5 col11\" >-0.0506561</td>\n",
       "            </tr>\n",
       "            <tr>\n",
       "                        <th id=\"T_db0f2f38_95d1_11e9_92a9_80c5f27a3b4elevel0_row6\" class=\"row_heading level0 row6\" >total sulfur dioxide</th>\n",
       "                        <td id=\"T_db0f2f38_95d1_11e9_92a9_80c5f27a3b4erow6_col0\" class=\"data row6 col0\" >-0.113181</td>\n",
       "                        <td id=\"T_db0f2f38_95d1_11e9_92a9_80c5f27a3b4erow6_col1\" class=\"data row6 col1\" >0.07647</td>\n",
       "                        <td id=\"T_db0f2f38_95d1_11e9_92a9_80c5f27a3b4erow6_col2\" class=\"data row6 col2\" >0.035533</td>\n",
       "                        <td id=\"T_db0f2f38_95d1_11e9_92a9_80c5f27a3b4erow6_col3\" class=\"data row6 col3\" >0.203028</td>\n",
       "                        <td id=\"T_db0f2f38_95d1_11e9_92a9_80c5f27a3b4erow6_col4\" class=\"data row6 col4\" >0.0474005</td>\n",
       "                        <td id=\"T_db0f2f38_95d1_11e9_92a9_80c5f27a3b4erow6_col5\" class=\"data row6 col5\" >0.667666</td>\n",
       "                        <td id=\"T_db0f2f38_95d1_11e9_92a9_80c5f27a3b4erow6_col6\" class=\"data row6 col6\" >1</td>\n",
       "                        <td id=\"T_db0f2f38_95d1_11e9_92a9_80c5f27a3b4erow6_col7\" class=\"data row6 col7\" >0.0712695</td>\n",
       "                        <td id=\"T_db0f2f38_95d1_11e9_92a9_80c5f27a3b4erow6_col8\" class=\"data row6 col8\" >-0.0664946</td>\n",
       "                        <td id=\"T_db0f2f38_95d1_11e9_92a9_80c5f27a3b4erow6_col9\" class=\"data row6 col9\" >0.0429468</td>\n",
       "                        <td id=\"T_db0f2f38_95d1_11e9_92a9_80c5f27a3b4erow6_col10\" class=\"data row6 col10\" >-0.205654</td>\n",
       "                        <td id=\"T_db0f2f38_95d1_11e9_92a9_80c5f27a3b4erow6_col11\" class=\"data row6 col11\" >-0.1851</td>\n",
       "            </tr>\n",
       "            <tr>\n",
       "                        <th id=\"T_db0f2f38_95d1_11e9_92a9_80c5f27a3b4elevel0_row7\" class=\"row_heading level0 row7\" >density</th>\n",
       "                        <td id=\"T_db0f2f38_95d1_11e9_92a9_80c5f27a3b4erow7_col0\" class=\"data row7 col0\" >0.668047</td>\n",
       "                        <td id=\"T_db0f2f38_95d1_11e9_92a9_80c5f27a3b4erow7_col1\" class=\"data row7 col1\" >0.0220262</td>\n",
       "                        <td id=\"T_db0f2f38_95d1_11e9_92a9_80c5f27a3b4erow7_col2\" class=\"data row7 col2\" >0.364947</td>\n",
       "                        <td id=\"T_db0f2f38_95d1_11e9_92a9_80c5f27a3b4erow7_col3\" class=\"data row7 col3\" >0.355283</td>\n",
       "                        <td id=\"T_db0f2f38_95d1_11e9_92a9_80c5f27a3b4erow7_col4\" class=\"data row7 col4\" >0.200632</td>\n",
       "                        <td id=\"T_db0f2f38_95d1_11e9_92a9_80c5f27a3b4erow7_col5\" class=\"data row7 col5\" >-0.0219458</td>\n",
       "                        <td id=\"T_db0f2f38_95d1_11e9_92a9_80c5f27a3b4erow7_col6\" class=\"data row7 col6\" >0.0712695</td>\n",
       "                        <td id=\"T_db0f2f38_95d1_11e9_92a9_80c5f27a3b4erow7_col7\" class=\"data row7 col7\" >1</td>\n",
       "                        <td id=\"T_db0f2f38_95d1_11e9_92a9_80c5f27a3b4erow7_col8\" class=\"data row7 col8\" >-0.341699</td>\n",
       "                        <td id=\"T_db0f2f38_95d1_11e9_92a9_80c5f27a3b4erow7_col9\" class=\"data row7 col9\" >0.148506</td>\n",
       "                        <td id=\"T_db0f2f38_95d1_11e9_92a9_80c5f27a3b4erow7_col10\" class=\"data row7 col10\" >-0.49618</td>\n",
       "                        <td id=\"T_db0f2f38_95d1_11e9_92a9_80c5f27a3b4erow7_col11\" class=\"data row7 col11\" >-0.174919</td>\n",
       "            </tr>\n",
       "            <tr>\n",
       "                        <th id=\"T_db0f2f38_95d1_11e9_92a9_80c5f27a3b4elevel0_row8\" class=\"row_heading level0 row8\" >pH</th>\n",
       "                        <td id=\"T_db0f2f38_95d1_11e9_92a9_80c5f27a3b4erow8_col0\" class=\"data row8 col0\" >-0.682978</td>\n",
       "                        <td id=\"T_db0f2f38_95d1_11e9_92a9_80c5f27a3b4erow8_col1\" class=\"data row8 col1\" >0.234937</td>\n",
       "                        <td id=\"T_db0f2f38_95d1_11e9_92a9_80c5f27a3b4erow8_col2\" class=\"data row8 col2\" >-0.541904</td>\n",
       "                        <td id=\"T_db0f2f38_95d1_11e9_92a9_80c5f27a3b4erow8_col3\" class=\"data row8 col3\" >-0.0856524</td>\n",
       "                        <td id=\"T_db0f2f38_95d1_11e9_92a9_80c5f27a3b4erow8_col4\" class=\"data row8 col4\" >-0.265026</td>\n",
       "                        <td id=\"T_db0f2f38_95d1_11e9_92a9_80c5f27a3b4erow8_col5\" class=\"data row8 col5\" >0.0703775</td>\n",
       "                        <td id=\"T_db0f2f38_95d1_11e9_92a9_80c5f27a3b4erow8_col6\" class=\"data row8 col6\" >-0.0664946</td>\n",
       "                        <td id=\"T_db0f2f38_95d1_11e9_92a9_80c5f27a3b4erow8_col7\" class=\"data row8 col7\" >-0.341699</td>\n",
       "                        <td id=\"T_db0f2f38_95d1_11e9_92a9_80c5f27a3b4erow8_col8\" class=\"data row8 col8\" >1</td>\n",
       "                        <td id=\"T_db0f2f38_95d1_11e9_92a9_80c5f27a3b4erow8_col9\" class=\"data row8 col9\" >-0.196648</td>\n",
       "                        <td id=\"T_db0f2f38_95d1_11e9_92a9_80c5f27a3b4erow8_col10\" class=\"data row8 col10\" >0.205633</td>\n",
       "                        <td id=\"T_db0f2f38_95d1_11e9_92a9_80c5f27a3b4erow8_col11\" class=\"data row8 col11\" >-0.0577314</td>\n",
       "            </tr>\n",
       "            <tr>\n",
       "                        <th id=\"T_db0f2f38_95d1_11e9_92a9_80c5f27a3b4elevel0_row9\" class=\"row_heading level0 row9\" >sulphates</th>\n",
       "                        <td id=\"T_db0f2f38_95d1_11e9_92a9_80c5f27a3b4erow9_col0\" class=\"data row9 col0\" >0.183006</td>\n",
       "                        <td id=\"T_db0f2f38_95d1_11e9_92a9_80c5f27a3b4erow9_col1\" class=\"data row9 col1\" >-0.260987</td>\n",
       "                        <td id=\"T_db0f2f38_95d1_11e9_92a9_80c5f27a3b4erow9_col2\" class=\"data row9 col2\" >0.31277</td>\n",
       "                        <td id=\"T_db0f2f38_95d1_11e9_92a9_80c5f27a3b4erow9_col3\" class=\"data row9 col3\" >0.00552712</td>\n",
       "                        <td id=\"T_db0f2f38_95d1_11e9_92a9_80c5f27a3b4erow9_col4\" class=\"data row9 col4\" >0.37126</td>\n",
       "                        <td id=\"T_db0f2f38_95d1_11e9_92a9_80c5f27a3b4erow9_col5\" class=\"data row9 col5\" >0.0516576</td>\n",
       "                        <td id=\"T_db0f2f38_95d1_11e9_92a9_80c5f27a3b4erow9_col6\" class=\"data row9 col6\" >0.0429468</td>\n",
       "                        <td id=\"T_db0f2f38_95d1_11e9_92a9_80c5f27a3b4erow9_col7\" class=\"data row9 col7\" >0.148506</td>\n",
       "                        <td id=\"T_db0f2f38_95d1_11e9_92a9_80c5f27a3b4erow9_col8\" class=\"data row9 col8\" >-0.196648</td>\n",
       "                        <td id=\"T_db0f2f38_95d1_11e9_92a9_80c5f27a3b4erow9_col9\" class=\"data row9 col9\" >1</td>\n",
       "                        <td id=\"T_db0f2f38_95d1_11e9_92a9_80c5f27a3b4erow9_col10\" class=\"data row9 col10\" >0.0935948</td>\n",
       "                        <td id=\"T_db0f2f38_95d1_11e9_92a9_80c5f27a3b4erow9_col11\" class=\"data row9 col11\" >0.251397</td>\n",
       "            </tr>\n",
       "            <tr>\n",
       "                        <th id=\"T_db0f2f38_95d1_11e9_92a9_80c5f27a3b4elevel0_row10\" class=\"row_heading level0 row10\" >alcohol</th>\n",
       "                        <td id=\"T_db0f2f38_95d1_11e9_92a9_80c5f27a3b4erow10_col0\" class=\"data row10 col0\" >-0.0616683</td>\n",
       "                        <td id=\"T_db0f2f38_95d1_11e9_92a9_80c5f27a3b4erow10_col1\" class=\"data row10 col1\" >-0.202288</td>\n",
       "                        <td id=\"T_db0f2f38_95d1_11e9_92a9_80c5f27a3b4erow10_col2\" class=\"data row10 col2\" >0.109903</td>\n",
       "                        <td id=\"T_db0f2f38_95d1_11e9_92a9_80c5f27a3b4erow10_col3\" class=\"data row10 col3\" >0.0420754</td>\n",
       "                        <td id=\"T_db0f2f38_95d1_11e9_92a9_80c5f27a3b4erow10_col4\" class=\"data row10 col4\" >-0.221141</td>\n",
       "                        <td id=\"T_db0f2f38_95d1_11e9_92a9_80c5f27a3b4erow10_col5\" class=\"data row10 col5\" >-0.0694084</td>\n",
       "                        <td id=\"T_db0f2f38_95d1_11e9_92a9_80c5f27a3b4erow10_col6\" class=\"data row10 col6\" >-0.205654</td>\n",
       "                        <td id=\"T_db0f2f38_95d1_11e9_92a9_80c5f27a3b4erow10_col7\" class=\"data row10 col7\" >-0.49618</td>\n",
       "                        <td id=\"T_db0f2f38_95d1_11e9_92a9_80c5f27a3b4erow10_col8\" class=\"data row10 col8\" >0.205633</td>\n",
       "                        <td id=\"T_db0f2f38_95d1_11e9_92a9_80c5f27a3b4erow10_col9\" class=\"data row10 col9\" >0.0935948</td>\n",
       "                        <td id=\"T_db0f2f38_95d1_11e9_92a9_80c5f27a3b4erow10_col10\" class=\"data row10 col10\" >1</td>\n",
       "                        <td id=\"T_db0f2f38_95d1_11e9_92a9_80c5f27a3b4erow10_col11\" class=\"data row10 col11\" >0.476166</td>\n",
       "            </tr>\n",
       "            <tr>\n",
       "                        <th id=\"T_db0f2f38_95d1_11e9_92a9_80c5f27a3b4elevel0_row11\" class=\"row_heading level0 row11\" >quality</th>\n",
       "                        <td id=\"T_db0f2f38_95d1_11e9_92a9_80c5f27a3b4erow11_col0\" class=\"data row11 col0\" >0.124052</td>\n",
       "                        <td id=\"T_db0f2f38_95d1_11e9_92a9_80c5f27a3b4erow11_col1\" class=\"data row11 col1\" >-0.390558</td>\n",
       "                        <td id=\"T_db0f2f38_95d1_11e9_92a9_80c5f27a3b4erow11_col2\" class=\"data row11 col2\" >0.226373</td>\n",
       "                        <td id=\"T_db0f2f38_95d1_11e9_92a9_80c5f27a3b4erow11_col3\" class=\"data row11 col3\" >0.0137316</td>\n",
       "                        <td id=\"T_db0f2f38_95d1_11e9_92a9_80c5f27a3b4erow11_col4\" class=\"data row11 col4\" >-0.128907</td>\n",
       "                        <td id=\"T_db0f2f38_95d1_11e9_92a9_80c5f27a3b4erow11_col5\" class=\"data row11 col5\" >-0.0506561</td>\n",
       "                        <td id=\"T_db0f2f38_95d1_11e9_92a9_80c5f27a3b4erow11_col6\" class=\"data row11 col6\" >-0.1851</td>\n",
       "                        <td id=\"T_db0f2f38_95d1_11e9_92a9_80c5f27a3b4erow11_col7\" class=\"data row11 col7\" >-0.174919</td>\n",
       "                        <td id=\"T_db0f2f38_95d1_11e9_92a9_80c5f27a3b4erow11_col8\" class=\"data row11 col8\" >-0.0577314</td>\n",
       "                        <td id=\"T_db0f2f38_95d1_11e9_92a9_80c5f27a3b4erow11_col9\" class=\"data row11 col9\" >0.251397</td>\n",
       "                        <td id=\"T_db0f2f38_95d1_11e9_92a9_80c5f27a3b4erow11_col10\" class=\"data row11 col10\" >0.476166</td>\n",
       "                        <td id=\"T_db0f2f38_95d1_11e9_92a9_80c5f27a3b4erow11_col11\" class=\"data row11 col11\" >1</td>\n",
       "            </tr>\n",
       "    </tbody></table>"
      ],
      "text/plain": [
       "<pandas.io.formats.style.Styler at 0x2a0a7c01c88>"
      ]
     },
     "execution_count": 23,
     "metadata": {},
     "output_type": "execute_result"
    }
   ],
   "source": [
    "cr = data.corr()\n",
    "cr.style.background_gradient(cmap='coolwarm')"
   ]
  },
  {
   "cell_type": "markdown",
   "metadata": {},
   "source": [
    "## Remarks "
   ]
  },
  {
   "cell_type": "markdown",
   "metadata": {},
   "source": [
    "#pH and volatile acidity has high co-realtion as compared to any other features"
   ]
  },
  {
   "cell_type": "code",
   "execution_count": 36,
   "metadata": {},
   "outputs": [],
   "source": [
    "f_acidity = list(data['fixed acidity'])\n",
    "v_acidity = list(data['volatile acidity'])\n",
    "c_acid = list(data['citric acid'])\n",
    "r_sugar = list(data['residual sugar'])\n",
    "chl = list(data['chlorides'])\n",
    "s_d = list(data['free sulfur dioxide'])\n",
    "t_d = list(data['total sulfur dioxide'])\n",
    "density = list(data['density'])\n",
    "ph = list(data['pH'])\n",
    "s_p = list(data['sulphates'])\n",
    "alc = list(data['alcohol'])"
   ]
  },
  {
   "cell_type": "code",
   "execution_count": 37,
   "metadata": {},
   "outputs": [],
   "source": [
    "labels = list(data['quality'])"
   ]
  },
  {
   "cell_type": "code",
   "execution_count": 38,
   "metadata": {},
   "outputs": [],
   "source": [
    "features = list()\n",
    "for i in range(len(ph)):\n",
    "    # Features To Include\n",
    "    features.append([chl[i]])"
   ]
  },
  {
   "cell_type": "markdown",
   "metadata": {},
   "source": [
    "## Train and Test split"
   ]
  },
  {
   "cell_type": "code",
   "execution_count": 40,
   "metadata": {},
   "outputs": [],
   "source": [
    "# Fraction Of Training Data\n",
    "fac = 0.9"
   ]
  },
  {
   "cell_type": "code",
   "execution_count": 59,
   "metadata": {},
   "outputs": [],
   "source": [
    "features_train = features[:int(fac*len(features))]\n",
    "features_test = features[int(fac*len(features)):]\n",
    "labels_train = labels[:int(fac*len(labels))]\n",
    "labels_test = labels[int(fac*len(labels)):]"
   ]
  },
  {
   "cell_type": "markdown",
   "metadata": {},
   "source": [
    "##Visualization"
   ]
  },
  {
   "cell_type": "code",
   "execution_count": 60,
   "metadata": {},
   "outputs": [],
   "source": [
    "sns.set(style=\"ticks\")"
   ]
  },
  {
   "cell_type": "code",
   "execution_count": 61,
   "metadata": {},
   "outputs": [
    {
     "data": {
      "image/png": "[encoded data removed]",
      "text/plain": [
       "<Figure size 431.6x360 with 1 Axes>"
      ]
     },
     "metadata": {},
     "output_type": "display_data"
    }
   ],
   "source": [
    "sns.relplot(x=\"alcohol\", y=\"pH\", hue = 'quality', data=data);\n",
    "plt.show()"
   ]
  },
  {
   "cell_type": "code",
   "execution_count": 62,
   "metadata": {},
   "outputs": [
    {
     "data": {
      "image/png": "[encoded data removed]",
      "text/plain": [
       "<Figure size 431.6x360 with 1 Axes>"
      ]
     },
     "metadata": {},
     "output_type": "display_data"
    }
   ],
   "source": [
    "sns.relplot(x=\"alcohol\", y=\"sulphates\", hue = 'quality', data=data);\n",
    "plt.show()"
   ]
  },
  {
   "cell_type": "markdown",
   "metadata": {},
   "source": [
    "#Observations"
   ]
  },
  {
   "cell_type": "code",
   "execution_count": null,
   "metadata": {},
   "outputs": [],
   "source": []
  },
  {
   "cell_type": "code",
   "execution_count": null,
   "metadata": {},
   "outputs": [],
   "source": []
  },
  {
   "cell_type": "markdown",
   "metadata": {},
   "source": [
    "##Classification"
   ]
  },
  {
   "cell_type": "markdown",
   "metadata": {},
   "source": [
    "##Libraries"
   ]
  },
  {
   "cell_type": "code",
   "execution_count": 64,
   "metadata": {},
   "outputs": [],
   "source": [
    "from sklearn import svm\n",
    "from sklearn.naive_bayes import GaussianNB\n",
    "from sklearn import tree"
   ]
  },
  {
   "cell_type": "markdown",
   "metadata": {},
   "source": [
    "### testing accuracy of various classifier"
   ]
  },
  {
   "cell_type": "code",
   "execution_count": 66,
   "metadata": {},
   "outputs": [
    {
     "name": "stdout",
     "output_type": "stream",
     "text": [
      "DT training time: 0.007 s\n",
      "DT Accuracy:  0.4875\n"
     ]
    }
   ],
   "source": [
    "clf1 = tree.DecisionTreeClassifier()\n",
    "t0 = time()\n",
    "clf1.fit(features_train,labels_train)\n",
    "print (\"DT training time:\", round(time()-t0, 3), \"s\")\n",
    "print (\"DT Accuracy: \",clf1.score(features_test,labels_test))"
   ]
  },
  {
   "cell_type": "code",
   "execution_count": 67,
   "metadata": {},
   "outputs": [
    {
     "name": "stdout",
     "output_type": "stream",
     "text": [
      "SVM training time: 0.117 s\n",
      "SVM Accuracy:  0.40625\n"
     ]
    }
   ],
   "source": [
    "t0 = time()\n",
    "clf2 = svm.SVC(gamma=1, C=1)\n",
    "clf2.fit(features_train,labels_train)\n",
    "print (\"SVM training time:\", round(time()-t0, 3), \"s\")\n",
    "print (\"SVM Accuracy: \",clf2.score(features_test,labels_test))"
   ]
  },
  {
   "cell_type": "code",
   "execution_count": 68,
   "metadata": {},
   "outputs": [
    {
     "name": "stdout",
     "output_type": "stream",
     "text": [
      "Naive Bayes training time: 0.005 s\n",
      "Naive Bayes Accuracy:  0.44375\n"
     ]
    }
   ],
   "source": [
    "t0 = time()\n",
    "clf4 = GaussianNB()\n",
    "clf4.fit(features_train,labels_train)\n",
    "print (\"Naive Bayes training time:\", round(time()-t0, 3), \"s\")\n",
    "print (\"Naive Bayes Accuracy: \",clf4.score(features_test,labels_test))"
   ]
  },
  {
   "cell_type": "code",
   "execution_count": 70,
   "metadata": {},
   "outputs": [
    {
     "name": "stdout",
     "output_type": "stream",
     "text": [
      "Linear SVM training time: 0.03 s\n",
      "Linear SVM Accuracy:  0.44375\n"
     ]
    }
   ],
   "source": [
    "t0 = time()\n",
    "clf5 = svm.LinearSVC()\n",
    "clf5.fit(features_train,labels_train)\n",
    "print (\"Linear SVM training time:\", round(time()-t0, 3), \"s\")\n",
    "print (\"Linear SVM Accuracy: \",clf5.score(features_test,labels_test))"
   ]
  },
  {
   "cell_type": "markdown",
   "metadata": {},
   "source": [
    "## Conclusion "
   ]
  },
  {
   "cell_type": "markdown",
   "metadata": {},
   "source": [
    "##Best_algorithm_turns_out_be_Linear_SVM_As_Max_Accuracy_Reached_Is_58.7%"
   ]
  },
  {
   "cell_type": "markdown",
   "metadata": {},
   "source": [
    "### Testing Various Regression Algorithms"
   ]
  },
  {
   "cell_type": "code",
   "execution_count": 79,
   "metadata": {},
   "outputs": [],
   "source": [
    "from sklearn.linear_model import LinearRegression\n",
    "from sklearn.svm import SVR"
   ]
  },
  {
   "cell_type": "code",
   "execution_count": 80,
   "metadata": {},
   "outputs": [
    {
     "name": "stdout",
     "output_type": "stream",
     "text": [
      "Time: 0.065 s\n"
     ]
    },
    {
     "ename": "NameError",
     "evalue": "name 'mean_squared_error' is not defined",
     "output_type": "error",
     "traceback": [
      "\u001b[1;31m---------------------------------------------------------------------------\u001b[0m",
      "\u001b[1;31mNameError\u001b[0m                                 Traceback (most recent call last)",
      "\u001b[1;32m<ipython-input-80-f86053fa8cbb>\u001b[0m in \u001b[0;36m<module>\u001b[1;34m\u001b[0m\n\u001b[0;32m      4\u001b[0m \u001b[0mprint\u001b[0m \u001b[1;33m(\u001b[0m\u001b[1;34m\"Time:\"\u001b[0m\u001b[1;33m,\u001b[0m \u001b[0mround\u001b[0m\u001b[1;33m(\u001b[0m\u001b[0mtime\u001b[0m\u001b[1;33m(\u001b[0m\u001b[1;33m)\u001b[0m\u001b[1;33m-\u001b[0m\u001b[0mt0\u001b[0m\u001b[1;33m,\u001b[0m \u001b[1;36m3\u001b[0m\u001b[1;33m)\u001b[0m\u001b[1;33m,\u001b[0m \u001b[1;34m\"s\"\u001b[0m\u001b[1;33m)\u001b[0m\u001b[1;33m\u001b[0m\u001b[1;33m\u001b[0m\u001b[0m\n\u001b[0;32m      5\u001b[0m \u001b[0mpred\u001b[0m \u001b[1;33m=\u001b[0m \u001b[0mreg1\u001b[0m\u001b[1;33m.\u001b[0m\u001b[0mpredict\u001b[0m\u001b[1;33m(\u001b[0m\u001b[0mfeatures_test\u001b[0m\u001b[1;33m)\u001b[0m\u001b[1;33m\u001b[0m\u001b[1;33m\u001b[0m\u001b[0m\n\u001b[1;32m----> 6\u001b[1;33m \u001b[0mprint\u001b[0m\u001b[1;33m(\u001b[0m\u001b[1;34m\"Error:\"\u001b[0m\u001b[1;33m,\u001b[0m\u001b[0mmean_squared_error\u001b[0m\u001b[1;33m(\u001b[0m\u001b[0mlabels_test\u001b[0m\u001b[1;33m,\u001b[0m \u001b[0mpred\u001b[0m\u001b[1;33m)\u001b[0m\u001b[1;33m)\u001b[0m\u001b[1;33m\u001b[0m\u001b[1;33m\u001b[0m\u001b[0m\n\u001b[0m",
      "\u001b[1;31mNameError\u001b[0m: name 'mean_squared_error' is not defined"
     ]
    }
   ],
   "source": [
    "t0 = time()\n",
    "reg1 = LinearRegression()\n",
    "reg1.fit(features_train,labels_train)\n",
    "print (\"Time:\", round(time()-t0, 3), \"s\")\n",
    "pred = reg1.predict(features_test)\n",
    "print(\"Error:\",mean_squared_error(labels_test, pred))"
   ]
  },
  {
   "cell_type": "code",
   "execution_count": null,
   "metadata": {},
   "outputs": [],
   "source": []
  }
 ],
 "metadata": {
  "colab": {
   "name": "assignment_2.ipynb",
   "provenance": [],
   "version": "0.3.2"
  },
  "kernelspec": {
   "display_name": "Python 3",
   "language": "python",
   "name": "python3"
  },
  "language_info": {
   "codemirror_mode": {
    "name": "ipython",
    "version": 3
   },
   "file_extension": ".py",
   "mimetype": "text/x-python",
   "name": "python",
   "nbconvert_exporter": "python",
   "pygments_lexer": "ipython3",
   "version": "3.7.3"
  }
 },
 "nbformat": 4,
 "nbformat_minor": 1
}
